{
 "cells": [
  {
   "cell_type": "code",
   "execution_count": null,
   "id": "6596a7c5",
   "metadata": {},
   "outputs": [],
   "source": [
    "# Import the required libraries\n",
    "\n",
    "import os\n",
    "import cv2\n",
    "import numpy as np\n",
    "\n",
    "from sklearn.ensemble import RandomForestClassifier\n",
    "from sklearn.neural_network import MLPClassifier\n",
    "from sklearn.metrics import accuracy_score\n",
    "from sklearn.model_selection import train_test_split\n",
    "\n",
    "from mahotas.features import surf as SURF"
   ]
  },
  {
   "cell_type": "code",
   "execution_count": null,
   "id": "3f0958d7",
   "metadata": {},
   "outputs": [],
   "source": [
    "DATA = \"data\"\n",
    "PATH = os.path.abspath('')\n",
    "SAMPLES = os.listdir(f'{PATH}/{DATA}')\n",
    "\n",
    "SIFT = cv2.SIFT_create(nfeatures=400)\n",
    "HOG = cv2.HOGDescriptor()"
   ]
  },
  {
   "cell_type": "code",
   "execution_count": null,
   "id": "8b5e7f61",
   "metadata": {},
   "outputs": [],
   "source": [
    "def get_descriptors(sample, tech):\n",
    "    images = os.listdir(f\"{PATH}/{DATA}/{sample}\")\n",
    "    images = [f\"{PATH}/{DATA}/{sample}/{name}\" for name in images]\n",
    "    descriptors = []\n",
    "    \n",
    "    for n, img in enumerate(images):\n",
    "        img_rgb = cv2.imread(img)\n",
    "        if tech == 'sift':\n",
    "            img_gray = cv2.cvtColor(img_rgb, cv2.COLOR_BGR2GRAY)\n",
    "            kps, des = SIFT.detectAndCompute(img_gray, None)\n",
    "            des = np.mean(des, axis=0)\n",
    "        elif tech == 'surf':\n",
    "            img_gray = cv2.cvtColor(img_rgb, cv2.COLOR_BGR2GRAY)\n",
    "            des = SURF.surf(img_gray)\n",
    "            des = np.mean(des, axis=0)\n",
    "        elif tech == 'hog':\n",
    "            img_rgb = cv2.resize(img_rgb, (128, 128))\n",
    "            img_gray = cv2.cvtColor(img_rgb, cv2.COLOR_BGR2GRAY)\n",
    "            des = HOG.compute(img_gray)\n",
    "        descriptors.append(des)        \n",
    "    return descriptors"
   ]
  },
  {
   "cell_type": "code",
   "execution_count": null,
   "id": "a05b897e",
   "metadata": {},
   "outputs": [],
   "source": [
    "# Computing the descriptors\n",
    "\n",
    "Data = {'sift': None, 'surf': None, 'hog': None}\n",
    "\n",
    "for model in Data:\n",
    "    data = []\n",
    "\n",
    "    for sample in SAMPLES:\n",
    "        desc = get_descriptors(sample, model)\n",
    "        data += desc\n",
    "\n",
    "    Data[model] = np.array(data)\n",
    "    \n",
    "    print(\"Data extracted successfully for\", model.upper())"
   ]
  },
  {
   "cell_type": "code",
   "execution_count": null,
   "id": "72fe8f02",
   "metadata": {},
   "outputs": [],
   "source": [
    "# Labels for the DataSet\n",
    "\n",
    "labels = np.zeros(606)\n",
    "\n",
    "labels[0:202] = 0\n",
    "labels[202:404] = 1\n",
    "labels[404:606] = 2"
   ]
  },
  {
   "cell_type": "code",
   "execution_count": null,
   "id": "c3cfd9bf",
   "metadata": {},
   "outputs": [],
   "source": [
    "# Splitting DataSet into training (70%) and testing (30%)\n",
    "\n",
    "DataSet = {'sift': {}, 'surf': {}, 'hog': {}}\n",
    "\n",
    "for model in DataSet:\n",
    "    DataSet[model]['x_train'], DataSet[model]['x_test'], DataSet[model]['y_train'], DataSet[model]['y_test'] = train_test_split(Data[model], labels, test_size=0.3)"
   ]
  },
  {
   "cell_type": "code",
   "execution_count": null,
   "id": "888c5593",
   "metadata": {},
   "outputs": [],
   "source": [
    "# Initializing the models\n",
    "\n",
    "Models = {'sift': {}, 'surf': {}, 'hog': {}}\n",
    "\n",
    "for model in Models:\n",
    "    Models[model]['RFC'] = RandomForestClassifier(n_estimators=500)\n",
    "    Models[model]['ANN'] = MLPClassifier(hidden_layer_sizes=(100,), activation='logistic', max_iter=1000)\n"
   ]
  },
  {
   "cell_type": "code",
   "execution_count": null,
   "id": "fb3a5d66",
   "metadata": {},
   "outputs": [],
   "source": [
    "# Training RandomForestClassifiers\n",
    "\n",
    "for model in Models:\n",
    "    Models[model]['RFC'].fit(DataSet[model]['x_train'], DataSet[model]['y_train'])"
   ]
  },
  {
   "cell_type": "code",
   "execution_count": null,
   "id": "bfce26cd",
   "metadata": {},
   "outputs": [],
   "source": [
    "# Training ANNs\n",
    "\n",
    "for model in Models:\n",
    "    Models[model]['ANN'].fit(DataSet[model]['x_train'], DataSet[model]['y_train'])"
   ]
  },
  {
   "cell_type": "code",
   "execution_count": null,
   "id": "21b79a7c",
   "metadata": {},
   "outputs": [],
   "source": [
    "# Calculating the accuracy for all models\n",
    "\n",
    "for model in Models:\n",
    "    for i in Models[model]:\n",
    "        pred = Models[model][i].predict(DataSet[model]['x_test'])\n",
    "        acc = accuracy_score(DataSet[model]['y_test'], pred)\n",
    "        \n",
    "        print(f\"{i} Accuracy ({model.upper()}):\", acc)\n",
    "    print()"
   ]
  }
 ],
 "metadata": {
  "kernelspec": {
   "display_name": "Python 3 (ipykernel)",
   "language": "python",
   "name": "python3"
  },
  "language_info": {
   "codemirror_mode": {
    "name": "ipython",
    "version": 3
   },
   "file_extension": ".py",
   "mimetype": "text/x-python",
   "name": "python",
   "nbconvert_exporter": "python",
   "pygments_lexer": "ipython3",
   "version": "3.10.8"
  }
 },
 "nbformat": 4,
 "nbformat_minor": 5
}
